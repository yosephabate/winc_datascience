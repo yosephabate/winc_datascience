{
  "nbformat": 4,
  "nbformat_minor": 0,
  "metadata": {
    "colab": {
      "name": "matplotlib_plot_types.ipynb",
      "provenance": [],
      "authorship_tag": "ABX9TyMHM2Dv+P/tI170t3I+uguI",
      "include_colab_link": true
    },
    "kernelspec": {
      "name": "python3",
      "display_name": "Python 3"
    },
    "language_info": {
      "name": "python"
    }
  },
  "cells": [
    {
      "cell_type": "markdown",
      "metadata": {
        "id": "view-in-github",
        "colab_type": "text"
      },
      "source": [
        "<a href=\"https://colab.research.google.com/github/yosephabate/winc_datascience/blob/main/matplotlib_plot_types.ipynb\" target=\"_parent\"><img src=\"https://colab.research.google.com/assets/colab-badge.svg\" alt=\"Open In Colab\"/></a>"
      ]
    },
    {
      "cell_type": "code",
      "execution_count": 1,
      "metadata": {
        "id": "pGz0r7QBJKyJ"
      },
      "outputs": [],
      "source": [
        "# matplotlib plot types"
      ]
    },
    {
      "cell_type": "code",
      "source": [
        "# 1. comparison charts"
      ],
      "metadata": {
        "id": "ujivBICnMjgU"
      },
      "execution_count": 14,
      "outputs": []
    },
    {
      "cell_type": "code",
      "source": [
        "# for categorical data, order should not matter"
      ],
      "metadata": {
        "id": "o0eUcP2HP01n"
      },
      "execution_count": 15,
      "outputs": []
    },
    {
      "cell_type": "code",
      "source": [
        "# single variable bar chart (static)\n",
        "# eg. Election result"
      ],
      "metadata": {
        "id": "GdYoaKclM8Ez"
      },
      "execution_count": 3,
      "outputs": []
    },
    {
      "cell_type": "code",
      "source": [
        "# cyclical data (circular area chart)\n",
        "# eg. fruits: how much you can harvest per month?\n",
        "# eg. circular area chart, aka radar chart, aka spider chart"
      ],
      "metadata": {
        "id": "V5ECVCKnNjJI"
      },
      "execution_count": 6,
      "outputs": []
    },
    {
      "cell_type": "code",
      "source": [
        "# non-cyclical data (line chart)\n",
        "# eg. amount of vaccines injected"
      ],
      "metadata": {
        "id": "Z8cxXxuENwaE"
      },
      "execution_count": 7,
      "outputs": []
    },
    {
      "cell_type": "code",
      "source": [
        "# column chart\n",
        "# eg. Sales for different departments each quarter"
      ],
      "metadata": {
        "id": "U9xsp4yPOgm_"
      },
      "execution_count": 8,
      "outputs": []
    },
    {
      "cell_type": "code",
      "source": [
        "# 2. distribution chart"
      ],
      "metadata": {
        "id": "ZmDy8Lw7OqQj"
      },
      "execution_count": 9,
      "outputs": []
    },
    {
      "cell_type": "code",
      "source": [
        "# column histogram (single variable, few items)\n",
        "# order matters\n",
        "# eg. house prices with steps of 50,000"
      ],
      "metadata": {
        "id": "sjrMwH5vPC5W"
      },
      "execution_count": 10,
      "outputs": []
    },
    {
      "cell_type": "code",
      "source": [
        "# line histogram (single variable, many items)"
      ],
      "metadata": {
        "id": "eA7RvpfKPVt4"
      },
      "execution_count": 11,
      "outputs": []
    },
    {
      "cell_type": "code",
      "source": [
        "# scatter chart (two variables)\n",
        "# eg. years of experience against salary\n",
        "# also helps to deduce if there is any relationship between variables"
      ],
      "metadata": {
        "id": "fLnoA2c4PchA"
      },
      "execution_count": 20,
      "outputs": []
    },
    {
      "cell_type": "code",
      "source": [
        "# 3. composition charts\n",
        "# how much of the whole is this"
      ],
      "metadata": {
        "id": "6ghOqS68PsHG"
      },
      "execution_count": 16,
      "outputs": []
    },
    {
      "cell_type": "code",
      "source": [
        "# static comparison charts\n",
        "#  pie chart\n",
        "#  waterfall chart\n",
        "#  stacked 100% column whart with subcomponents"
      ],
      "metadata": {
        "id": "THDQxfxuPxQe"
      },
      "execution_count": 19,
      "outputs": []
    },
    {
      "cell_type": "code",
      "source": [
        "# changing over time comparison charts\n",
        "#  stacked 100% column chart\n",
        "#  stacked column chart\n",
        "#  stacked 100% area chart\n",
        "#  stacked area chart"
      ],
      "metadata": {
        "id": "rr35z98rQFRA"
      },
      "execution_count": 18,
      "outputs": []
    },
    {
      "cell_type": "code",
      "source": [
        "# 4. relationship chart\n",
        "# are these variables related? can i see clusters of data points?"
      ],
      "metadata": {
        "id": "K4nBoI0lQpK4"
      },
      "execution_count": 21,
      "outputs": []
    },
    {
      "cell_type": "code",
      "source": [
        "# scatter chart (two variables)\n",
        "# eg. dietary habits and health problems"
      ],
      "metadata": {
        "id": "94YMYs05Q4_Q"
      },
      "execution_count": 22,
      "outputs": []
    },
    {
      "cell_type": "code",
      "source": [
        "# bubble chart (three variables)\n",
        "# eg. "
      ],
      "metadata": {
        "id": "s4XS9ztSRQm-"
      },
      "execution_count": 23,
      "outputs": []
    },
    {
      "cell_type": "code",
      "source": [
        "# box plot\n",
        "# shows how the data in a dataset is distriuted"
      ],
      "metadata": {
        "id": "yxvzByCSRd__"
      },
      "execution_count": 24,
      "outputs": []
    },
    {
      "cell_type": "code",
      "source": [
        ""
      ],
      "metadata": {
        "id": "8uFEEU4iRlqO"
      },
      "execution_count": null,
      "outputs": []
    }
  ]
}