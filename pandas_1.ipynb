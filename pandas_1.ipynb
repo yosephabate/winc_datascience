{
  "nbformat": 4,
  "nbformat_minor": 0,
  "metadata": {
    "colab": {
      "name": "pandas_1.ipynb",
      "provenance": [],
      "authorship_tag": "ABX9TyNwB7iqQhuIEPQy1x0ECFmX",
      "include_colab_link": true
    },
    "kernelspec": {
      "name": "python3",
      "display_name": "Python 3"
    },
    "language_info": {
      "name": "python"
    }
  },
  "cells": [
    {
      "cell_type": "markdown",
      "metadata": {
        "id": "view-in-github",
        "colab_type": "text"
      },
      "source": [
        "<a href=\"https://colab.research.google.com/github/yosephabate/winc_datascience/blob/main/pandas_1.ipynb\" target=\"_parent\"><img src=\"https://colab.research.google.com/assets/colab-badge.svg\" alt=\"Open In Colab\"/></a>"
      ]
    },
    {
      "cell_type": "code",
      "execution_count": 2,
      "metadata": {
        "id": "7tit-62nupD1"
      },
      "outputs": [],
      "source": [
        "# import libraries\n",
        "import pandas as pd\n",
        "import numpy as np"
      ]
    },
    {
      "cell_type": "code",
      "source": [
        "call_housing = pd.read_csv('sample_data/california_housing_test.csv')\n",
        "call_housing.head()"
      ],
      "metadata": {
        "id": "iHiH2ObDu47x"
      },
      "execution_count": null,
      "outputs": []
    },
    {
      "cell_type": "code",
      "source": [
        "call_housing.tail()"
      ],
      "metadata": {
        "id": "jg8QBvWZvI7v"
      },
      "execution_count": null,
      "outputs": []
    },
    {
      "cell_type": "code",
      "source": [
        "call_housing.shape"
      ],
      "metadata": {
        "id": "RyIwXgGrvMFY"
      },
      "execution_count": null,
      "outputs": []
    },
    {
      "cell_type": "code",
      "source": [
        "call_housing.size"
      ],
      "metadata": {
        "id": "2C5GT25RvZdV"
      },
      "execution_count": null,
      "outputs": []
    },
    {
      "cell_type": "code",
      "source": [
        "call_housing.columns"
      ],
      "metadata": {
        "id": "P49CHdVavbqb"
      },
      "execution_count": null,
      "outputs": []
    },
    {
      "cell_type": "code",
      "source": [
        "call_housing.dtypes"
      ],
      "metadata": {
        "id": "j6BavjfdvecL"
      },
      "execution_count": null,
      "outputs": []
    },
    {
      "cell_type": "code",
      "source": [
        "call_housing.info()"
      ],
      "metadata": {
        "id": "BaPPWIKZvi8B"
      },
      "execution_count": null,
      "outputs": []
    },
    {
      "cell_type": "code",
      "source": [
        "call_housing.describe()"
      ],
      "metadata": {
        "id": "EIgPCi8WvlDy"
      },
      "execution_count": null,
      "outputs": []
    },
    {
      "cell_type": "code",
      "source": [
        ""
      ],
      "metadata": {
        "id": "MlC75VZvvszR"
      },
      "execution_count": null,
      "outputs": []
    }
  ]
}