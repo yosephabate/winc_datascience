{
  "nbformat": 4,
  "nbformat_minor": 0,
  "metadata": {
    "colab": {
      "name": "numpy_favtutor.ipynb",
      "provenance": [],
      "collapsed_sections": [],
      "authorship_tag": "ABX9TyMpaaizqF3EmAWvftc3Bd9W",
      "include_colab_link": true
    },
    "kernelspec": {
      "name": "python3",
      "display_name": "Python 3"
    },
    "language_info": {
      "name": "python"
    }
  },
  "cells": [
    {
      "cell_type": "markdown",
      "metadata": {
        "id": "view-in-github",
        "colab_type": "text"
      },
      "source": [
        "<a href=\"https://colab.research.google.com/github/yosephabate/winc_datascience/blob/main/numpy_favtutor.ipynb\" target=\"_parent\"><img src=\"https://colab.research.google.com/assets/colab-badge.svg\" alt=\"Open In Colab\"/></a>"
      ]
    },
    {
      "cell_type": "code",
      "metadata": {
        "id": "oryStR29jcxH"
      },
      "source": [
        "# import numpy library\n",
        "import numpy as np"
      ],
      "execution_count": null,
      "outputs": []
    },
    {
      "cell_type": "code",
      "metadata": {
        "colab": {
          "base_uri": "https://localhost:8080/",
          "height": 35
        },
        "id": "1VU1em1ojimD",
        "outputId": "eeb606da-85e6-4dfa-be08-c5998fb3a592"
      },
      "source": [
        "# print current np version\n",
        "np.__version__"
      ],
      "execution_count": null,
      "outputs": [
        {
          "output_type": "execute_result",
          "data": {
            "application/vnd.google.colaboratory.intrinsic+json": {
              "type": "string"
            },
            "text/plain": [
              "'1.19.5'"
            ]
          },
          "metadata": {},
          "execution_count": 4
        }
      ]
    },
    {
      "cell_type": "code",
      "metadata": {
        "id": "NCQ_sDZgjl_X"
      },
      "source": [
        "# adding two equal shaped ndarray(s)\n",
        "a = np.array([[1,2,3],\n",
        "              [4,5,6]])\n",
        "\n",
        "b = np.array([[10,11,12],\n",
        "              [13,14,15]])"
      ],
      "execution_count": null,
      "outputs": []
    },
    {
      "cell_type": "code",
      "metadata": {
        "colab": {
          "base_uri": "https://localhost:8080/"
        },
        "id": "vvh5Zpxrj4Yc",
        "outputId": "2dcd9cdc-7796-48d9-8d69-df3ce7f6fe12"
      },
      "source": [
        "a.shape"
      ],
      "execution_count": null,
      "outputs": [
        {
          "output_type": "execute_result",
          "data": {
            "text/plain": [
              "(2, 3)"
            ]
          },
          "metadata": {},
          "execution_count": 6
        }
      ]
    },
    {
      "cell_type": "code",
      "metadata": {
        "colab": {
          "base_uri": "https://localhost:8080/"
        },
        "id": "8D29tFjHj5mX",
        "outputId": "dceca3bb-947d-4036-e2cf-13ecca4e6cf1"
      },
      "source": [
        "b.shape"
      ],
      "execution_count": null,
      "outputs": [
        {
          "output_type": "execute_result",
          "data": {
            "text/plain": [
              "(2, 3)"
            ]
          },
          "metadata": {},
          "execution_count": 7
        }
      ]
    },
    {
      "cell_type": "code",
      "metadata": {
        "colab": {
          "base_uri": "https://localhost:8080/"
        },
        "id": "rE6N7ym6j6Mo",
        "outputId": "3773d081-ca37-4349-92ff-f282d0467767"
      },
      "source": [
        "c = a + b\n",
        "c"
      ],
      "execution_count": null,
      "outputs": [
        {
          "output_type": "execute_result",
          "data": {
            "text/plain": [
              "array([[11, 13, 15],\n",
              "       [17, 19, 21]])"
            ]
          },
          "metadata": {},
          "execution_count": 8
        }
      ]
    },
    {
      "cell_type": "code",
      "metadata": {
        "colab": {
          "base_uri": "https://localhost:8080/"
        },
        "id": "w92vXC2xj8fe",
        "outputId": "07a522a4-1c11-44c2-f66b-221ffcc1c072"
      },
      "source": [
        "# multiply an ndarray by a scalar value\n",
        "b = 2 * a\n",
        "b"
      ],
      "execution_count": null,
      "outputs": [
        {
          "output_type": "execute_result",
          "data": {
            "text/plain": [
              "array([[ 2,  4,  6],\n",
              "       [ 8, 10, 12]])"
            ]
          },
          "metadata": {},
          "execution_count": 9
        }
      ]
    },
    {
      "cell_type": "code",
      "metadata": {
        "colab": {
          "base_uri": "https://localhost:8080/"
        },
        "id": "UN4ijw7VkO-6",
        "outputId": "efc04b41-0bfc-4896-9f33-5f7b75da8492"
      },
      "source": [
        "# create a 4x4 dimension identity matrix\n",
        "i = np.eye(4)\n",
        "i"
      ],
      "execution_count": null,
      "outputs": [
        {
          "output_type": "execute_result",
          "data": {
            "text/plain": [
              "array([[1., 0., 0., 0.],\n",
              "       [0., 1., 0., 0.],\n",
              "       [0., 0., 1., 0.],\n",
              "       [0., 0., 0., 1.]])"
            ]
          },
          "metadata": {},
          "execution_count": 14
        }
      ]
    },
    {
      "cell_type": "code",
      "metadata": {
        "colab": {
          "base_uri": "https://localhost:8080/"
        },
        "id": "fNEAoBdPkVwT",
        "outputId": "73a00253-abd9-4890-90ba-44db4ad217c9"
      },
      "source": [
        "# create a list with values ranging from 0 to 26\n",
        "a = np.array([x for x in range(27)])\n",
        "a.shape"
      ],
      "execution_count": null,
      "outputs": [
        {
          "output_type": "execute_result",
          "data": {
            "text/plain": [
              "(27,)"
            ]
          },
          "metadata": {},
          "execution_count": 19
        }
      ]
    },
    {
      "cell_type": "code",
      "metadata": {
        "id": "MBU1U9abkz5D"
      },
      "source": [
        "# reshaping an existing ndarray\n",
        "o = a.reshape((3,3,3))"
      ],
      "execution_count": null,
      "outputs": []
    },
    {
      "cell_type": "code",
      "metadata": {
        "colab": {
          "base_uri": "https://localhost:8080/"
        },
        "id": "elT31DJrlSfo",
        "outputId": "00c871a2-23fa-4b19-c0f7-911a5722e706"
      },
      "source": [
        "o"
      ],
      "execution_count": null,
      "outputs": [
        {
          "output_type": "execute_result",
          "data": {
            "text/plain": [
              "array([[[ 0,  1,  2],\n",
              "        [ 3,  4,  5],\n",
              "        [ 6,  7,  8]],\n",
              "\n",
              "       [[ 9, 10, 11],\n",
              "        [12, 13, 14],\n",
              "        [15, 16, 17]],\n",
              "\n",
              "       [[18, 19, 20],\n",
              "        [21, 22, 23],\n",
              "        [24, 25, 26]]])"
            ]
          },
          "metadata": {},
          "execution_count": 21
        }
      ]
    },
    {
      "cell_type": "code",
      "metadata": {
        "colab": {
          "base_uri": "https://localhost:8080/"
        },
        "id": "LjqIL8NMlTol",
        "outputId": "d0a92dd8-7a13-4818-8f12-80f303e3c310"
      },
      "source": [
        "# array datatype conversion\n",
        "a = np.array([[2.5, 3.8, 0],\n",
        "              [4.7, 2.9, 1.56]])\n",
        "a"
      ],
      "execution_count": null,
      "outputs": [
        {
          "output_type": "execute_result",
          "data": {
            "text/plain": [
              "array([[2.5 , 3.8 , 0.  ],\n",
              "       [4.7 , 2.9 , 1.56]])"
            ]
          },
          "metadata": {},
          "execution_count": 27
        }
      ]
    },
    {
      "cell_type": "code",
      "metadata": {
        "colab": {
          "base_uri": "https://localhost:8080/"
        },
        "id": "29-n0VTglhxq",
        "outputId": "15ec9e2e-8660-48e2-dfda-51f725b73768"
      },
      "source": [
        "a.dtype"
      ],
      "execution_count": null,
      "outputs": [
        {
          "output_type": "execute_result",
          "data": {
            "text/plain": [
              "dtype('float64')"
            ]
          },
          "metadata": {},
          "execution_count": 28
        }
      ]
    },
    {
      "cell_type": "code",
      "metadata": {
        "colab": {
          "base_uri": "https://localhost:8080/"
        },
        "id": "GiNGbSMull0W",
        "outputId": "cc3e7b2e-3286-41e2-b3e4-00aec16a9c7b"
      },
      "source": [
        "# convert float to int\n",
        "o = a.astype('int')\n",
        "o"
      ],
      "execution_count": null,
      "outputs": [
        {
          "output_type": "execute_result",
          "data": {
            "text/plain": [
              "array([[2, 3, 0],\n",
              "       [4, 2, 1]])"
            ]
          },
          "metadata": {},
          "execution_count": 29
        }
      ]
    },
    {
      "cell_type": "code",
      "metadata": {
        "colab": {
          "base_uri": "https://localhost:8080/"
        },
        "id": "Ns96tCpllx_-",
        "outputId": "843ad5e1-10a3-42b8-91b7-13970f83f92d"
      },
      "source": [
        "o.dtype"
      ],
      "execution_count": null,
      "outputs": [
        {
          "output_type": "execute_result",
          "data": {
            "text/plain": [
              "dtype('int64')"
            ]
          },
          "metadata": {},
          "execution_count": 30
        }
      ]
    },
    {
      "cell_type": "code",
      "metadata": {
        "colab": {
          "base_uri": "https://localhost:8080/"
        },
        "id": "7VJZDwp9lzZL",
        "outputId": "a728ff00-1100-4334-e742-6f64e32f3bb0"
      },
      "source": [
        "# convert int to boolean\n",
        "o = o.astype('bool')\n",
        "o"
      ],
      "execution_count": null,
      "outputs": [
        {
          "output_type": "execute_result",
          "data": {
            "text/plain": [
              "array([[ True,  True, False],\n",
              "       [ True,  True,  True]])"
            ]
          },
          "metadata": {},
          "execution_count": 31
        }
      ]
    },
    {
      "cell_type": "code",
      "metadata": {
        "colab": {
          "base_uri": "https://localhost:8080/"
        },
        "id": "ml7ZUhgHmCoK",
        "outputId": "785c20ff-e428-4276-ae1f-5001db4ed4d0"
      },
      "source": [
        "i = np.eye(4)\n",
        "i"
      ],
      "execution_count": null,
      "outputs": [
        {
          "output_type": "execute_result",
          "data": {
            "text/plain": [
              "array([[1., 0., 0., 0.],\n",
              "       [0., 1., 0., 0.],\n",
              "       [0., 0., 1., 0.],\n",
              "       [0., 0., 0., 1.]])"
            ]
          },
          "metadata": {},
          "execution_count": 32
        }
      ]
    },
    {
      "cell_type": "code",
      "metadata": {
        "colab": {
          "base_uri": "https://localhost:8080/"
        },
        "id": "dhErsUzYmSMp",
        "outputId": "961bfe27-d3db-4384-8a23-88d31521c1ba"
      },
      "source": [
        "o = i.astype('bool')\n",
        "o"
      ],
      "execution_count": null,
      "outputs": [
        {
          "output_type": "execute_result",
          "data": {
            "text/plain": [
              "array([[ True, False, False, False],\n",
              "       [False,  True, False, False],\n",
              "       [False, False,  True, False],\n",
              "       [False, False, False,  True]])"
            ]
          },
          "metadata": {},
          "execution_count": 33
        }
      ]
    },
    {
      "cell_type": "code",
      "metadata": {
        "id": "7QeeCejamVYE"
      },
      "source": [
        "# stacking ndarrays\n",
        "a1 = np.array([[1,2,3],\n",
        "               [4,5,6]])\n",
        "\n",
        "a2 = np.array([[7,8,9],\n",
        "               [10,11,12]])"
      ],
      "execution_count": null,
      "outputs": []
    },
    {
      "cell_type": "code",
      "metadata": {
        "colab": {
          "base_uri": "https://localhost:8080/"
        },
        "id": "hXVf2ictmmZT",
        "outputId": "b881bbf4-9a8b-41ef-a80a-fd037e27bdd8"
      },
      "source": [
        "a1"
      ],
      "execution_count": null,
      "outputs": [
        {
          "output_type": "execute_result",
          "data": {
            "text/plain": [
              "array([[1, 2, 3],\n",
              "       [4, 5, 6]])"
            ]
          },
          "metadata": {},
          "execution_count": 35
        }
      ]
    },
    {
      "cell_type": "code",
      "metadata": {
        "colab": {
          "base_uri": "https://localhost:8080/"
        },
        "id": "VZ22Mrf3mnSu",
        "outputId": "0fd07876-b1ab-40c5-da07-980a1fc7769d"
      },
      "source": [
        "a2"
      ],
      "execution_count": null,
      "outputs": [
        {
          "output_type": "execute_result",
          "data": {
            "text/plain": [
              "array([[ 7,  8,  9],\n",
              "       [10, 11, 12]])"
            ]
          },
          "metadata": {},
          "execution_count": 36
        }
      ]
    },
    {
      "cell_type": "code",
      "metadata": {
        "colab": {
          "base_uri": "https://localhost:8080/"
        },
        "id": "oR2CX5sqmoU_",
        "outputId": "a68135f3-5ec2-4d2d-927c-2ec76eed7dcb"
      },
      "source": [
        "o = np.hstack((a1, a2))\n",
        "o"
      ],
      "execution_count": null,
      "outputs": [
        {
          "output_type": "execute_result",
          "data": {
            "text/plain": [
              "array([[ 1,  2,  3,  7,  8,  9],\n",
              "       [ 4,  5,  6, 10, 11, 12]])"
            ]
          },
          "metadata": {},
          "execution_count": 37
        }
      ]
    },
    {
      "cell_type": "code",
      "metadata": {
        "colab": {
          "base_uri": "https://localhost:8080/"
        },
        "id": "IuvRi8jNmsEi",
        "outputId": "4328a749-2b60-4e8a-9441-37ed60a53add"
      },
      "source": [
        "o = np.vstack((a1, a2))\n",
        "o"
      ],
      "execution_count": null,
      "outputs": [
        {
          "output_type": "execute_result",
          "data": {
            "text/plain": [
              "array([[ 1,  2,  3],\n",
              "       [ 4,  5,  6],\n",
              "       [ 7,  8,  9],\n",
              "       [10, 11, 12]])"
            ]
          },
          "metadata": {},
          "execution_count": 38
        }
      ]
    },
    {
      "cell_type": "code",
      "metadata": {
        "colab": {
          "base_uri": "https://localhost:8080/"
        },
        "id": "u3q4uQhnmwRO",
        "outputId": "fd9f32df-2e4f-423c-919c-ebf60793f639"
      },
      "source": [
        "a1 = np.array([[1,2],[3,4]])\n",
        "a2 = np.array([[5,6],[7,8],[9,10]])\n",
        "np.vstack((a1, a2))"
      ],
      "execution_count": null,
      "outputs": [
        {
          "output_type": "execute_result",
          "data": {
            "text/plain": [
              "array([[ 1,  2],\n",
              "       [ 3,  4],\n",
              "       [ 5,  6],\n",
              "       [ 7,  8],\n",
              "       [ 9, 10]])"
            ]
          },
          "metadata": {},
          "execution_count": 41
        }
      ]
    },
    {
      "cell_type": "code",
      "metadata": {
        "colab": {
          "base_uri": "https://localhost:8080/"
        },
        "id": "nPH5vo5OnU4l",
        "outputId": "10bb0964-82a5-46c6-9fbf-0b925dc116fb"
      },
      "source": [
        "# custom sequence generation\n",
        "list_of_numbers = [x for x in range(0, 101, 2)]\n",
        "o = np.array(list_of_numbers)\n",
        "o"
      ],
      "execution_count": null,
      "outputs": [
        {
          "output_type": "execute_result",
          "data": {
            "text/plain": [
              "array([  0,   2,   4,   6,   8,  10,  12,  14,  16,  18,  20,  22,  24,\n",
              "        26,  28,  30,  32,  34,  36,  38,  40,  42,  44,  46,  48,  50,\n",
              "        52,  54,  56,  58,  60,  62,  64,  66,  68,  70,  72,  74,  76,\n",
              "        78,  80,  82,  84,  86,  88,  90,  92,  94,  96,  98, 100])"
            ]
          },
          "metadata": {},
          "execution_count": 43
        }
      ]
    },
    {
      "cell_type": "code",
      "metadata": {
        "colab": {
          "base_uri": "https://localhost:8080/"
        },
        "id": "4m8kko0un1f9",
        "outputId": "5788694b-d78e-42c8-d2f4-0b49b3dec42f"
      },
      "source": [
        "# matching positions\n",
        "a = np.array([1,2,3,4,5])\n",
        "b = np.array([1,3,2,4,5])\n",
        "np.where(a == b)"
      ],
      "execution_count": null,
      "outputs": [
        {
          "output_type": "execute_result",
          "data": {
            "text/plain": [
              "(array([0, 3, 4]),)"
            ]
          },
          "metadata": {},
          "execution_count": 44
        }
      ]
    },
    {
      "cell_type": "code",
      "metadata": {
        "colab": {
          "base_uri": "https://localhost:8080/"
        },
        "id": "ipQGbVMOoUht",
        "outputId": "7d7acfba-be7b-4c3d-e7cc-981e3ce9b433"
      },
      "source": [
        "for i in np.where(a == b):\n",
        "  print(a[i])"
      ],
      "execution_count": null,
      "outputs": [
        {
          "output_type": "stream",
          "name": "stdout",
          "text": [
            "[1 4 5]\n"
          ]
        }
      ]
    },
    {
      "cell_type": "code",
      "metadata": {
        "colab": {
          "base_uri": "https://localhost:8080/"
        },
        "id": "r_6Dm_kwogKG",
        "outputId": "ccceb86d-30c0-4d79-fc9d-e23c1418397d"
      },
      "source": [
        "# generation of equally spaced number within a range\n",
        "o = np.linspace(0, 100, 5)\n",
        "o"
      ],
      "execution_count": null,
      "outputs": [
        {
          "output_type": "execute_result",
          "data": {
            "text/plain": [
              "array([  0.,  25.,  50.,  75., 100.])"
            ]
          },
          "metadata": {},
          "execution_count": 47
        }
      ]
    },
    {
      "cell_type": "code",
      "metadata": {
        "colab": {
          "base_uri": "https://localhost:8080/"
        },
        "id": "SWR_MDpXowXY",
        "outputId": "f26ee483-c51e-45fc-941f-8e9f3920eb3e"
      },
      "source": [
        "o = np.linspace(0, 1, 5)\n",
        "o"
      ],
      "execution_count": null,
      "outputs": [
        {
          "output_type": "execute_result",
          "data": {
            "text/plain": [
              "array([0.  , 0.25, 0.5 , 0.75, 1.  ])"
            ]
          },
          "metadata": {},
          "execution_count": 51
        }
      ]
    },
    {
      "cell_type": "code",
      "metadata": {
        "colab": {
          "base_uri": "https://localhost:8080/"
        },
        "id": "V8Z5EZnxo2DD",
        "outputId": "889989cf-efbf-47d9-904f-afe3ec6a1c21"
      },
      "source": [
        "# matrix generation with one particular value\n",
        "o = np.ones((2, 3))\n",
        "o\n",
        "o = o * 5\n",
        "o = o.astype('int')\n",
        "o"
      ],
      "execution_count": null,
      "outputs": [
        {
          "output_type": "execute_result",
          "data": {
            "text/plain": [
              "array([[5, 5, 5],\n",
              "       [5, 5, 5]])"
            ]
          },
          "metadata": {},
          "execution_count": 58
        }
      ]
    },
    {
      "cell_type": "code",
      "metadata": {
        "colab": {
          "base_uri": "https://localhost:8080/"
        },
        "id": "kK2OSOXTpQ5_",
        "outputId": "a6693afc-12c6-4ce8-b6b3-b4f6f557dcb2"
      },
      "source": [
        "o = np.full((2, 3), 5)\n",
        "o"
      ],
      "execution_count": null,
      "outputs": [
        {
          "output_type": "execute_result",
          "data": {
            "text/plain": [
              "array([[5, 5, 5],\n",
              "       [5, 5, 5]])"
            ]
          },
          "metadata": {},
          "execution_count": 60
        }
      ]
    },
    {
      "cell_type": "code",
      "metadata": {
        "colab": {
          "base_uri": "https://localhost:8080/"
        },
        "id": "244CKBp9pluQ",
        "outputId": "fa7a4fe5-a42b-41ec-8d4b-bd31b8484b3e"
      },
      "source": [
        "o = np.full((3, 3), 'True')\n",
        "o"
      ],
      "execution_count": null,
      "outputs": [
        {
          "output_type": "execute_result",
          "data": {
            "text/plain": [
              "array([['True', 'True', 'True'],\n",
              "       ['True', 'True', 'True'],\n",
              "       ['True', 'True', 'True']], dtype='<U4')"
            ]
          },
          "metadata": {},
          "execution_count": 62
        }
      ]
    },
    {
      "cell_type": "code",
      "metadata": {
        "colab": {
          "base_uri": "https://localhost:8080/"
        },
        "id": "UZjz0RMBpztW",
        "outputId": "0eeebe87-3a7a-4bf3-9c16-66b69094ce07"
      },
      "source": [
        "o = np.full((3, 3), 1)\n",
        "o"
      ],
      "execution_count": null,
      "outputs": [
        {
          "output_type": "execute_result",
          "data": {
            "text/plain": [
              "array([[1, 1, 1],\n",
              "       [1, 1, 1],\n",
              "       [1, 1, 1]])"
            ]
          },
          "metadata": {},
          "execution_count": 63
        }
      ]
    },
    {
      "cell_type": "code",
      "metadata": {
        "colab": {
          "base_uri": "https://localhost:8080/"
        },
        "id": "ncOiBzWOp8Bp",
        "outputId": "4344a788-1196-4741-918d-c97b23996b8f"
      },
      "source": [
        "o = np.ones((3,3)).astype('int')\n",
        "o"
      ],
      "execution_count": null,
      "outputs": [
        {
          "output_type": "execute_result",
          "data": {
            "text/plain": [
              "array([[1, 1, 1],\n",
              "       [1, 1, 1],\n",
              "       [1, 1, 1]])"
            ]
          },
          "metadata": {},
          "execution_count": 66
        }
      ]
    },
    {
      "cell_type": "code",
      "metadata": {
        "colab": {
          "base_uri": "https://localhost:8080/"
        },
        "id": "9_zKl9t6p__E",
        "outputId": "0f4eb895-be68-476f-df8c-5685b86bb87a"
      },
      "source": [
        "# array generation by repeatition\n",
        "a = np.array([[1,2,3], [4,5,6]])\n",
        "a"
      ],
      "execution_count": null,
      "outputs": [
        {
          "output_type": "execute_result",
          "data": {
            "text/plain": [
              "array([[1, 2, 3],\n",
              "       [4, 5, 6]])"
            ]
          },
          "metadata": {},
          "execution_count": 67
        }
      ]
    },
    {
      "cell_type": "code",
      "metadata": {
        "colab": {
          "base_uri": "https://localhost:8080/"
        },
        "id": "Covrq2fwqR_T",
        "outputId": "0a0e09c4-33d5-46dd-9b31-aeba5acdeebe"
      },
      "source": [
        "o = np.tile(a, 10)\n",
        "o"
      ],
      "execution_count": null,
      "outputs": [
        {
          "output_type": "execute_result",
          "data": {
            "text/plain": [
              "array([[1, 2, 3, 1, 2, 3, 1, 2, 3, 1, 2, 3, 1, 2, 3, 1, 2, 3, 1, 2, 3, 1,\n",
              "        2, 3, 1, 2, 3, 1, 2, 3],\n",
              "       [4, 5, 6, 4, 5, 6, 4, 5, 6, 4, 5, 6, 4, 5, 6, 4, 5, 6, 4, 5, 6, 4,\n",
              "        5, 6, 4, 5, 6, 4, 5, 6]])"
            ]
          },
          "metadata": {},
          "execution_count": 68
        }
      ]
    },
    {
      "cell_type": "code",
      "metadata": {
        "colab": {
          "base_uri": "https://localhost:8080/"
        },
        "id": "ZAM0EUrdqWCZ",
        "outputId": "8c2472e8-cd0d-4130-df0c-149cc70c343a"
      },
      "source": [
        "o.shape"
      ],
      "execution_count": null,
      "outputs": [
        {
          "output_type": "execute_result",
          "data": {
            "text/plain": [
              "(2, 30)"
            ]
          },
          "metadata": {},
          "execution_count": 69
        }
      ]
    },
    {
      "cell_type": "code",
      "metadata": {
        "colab": {
          "base_uri": "https://localhost:8080/"
        },
        "id": "X0njYyb2qbEE",
        "outputId": "d1decf95-a5cf-4972-96da-367cd5ac6a39"
      },
      "source": [
        "# array generation or random integers within a range\n",
        "np.random.seed(123)\n",
        "o = np.random.randint(0, 10, size=(5, 5))\n",
        "o"
      ],
      "execution_count": null,
      "outputs": [
        {
          "output_type": "execute_result",
          "data": {
            "text/plain": [
              "array([[2, 2, 6, 1, 3],\n",
              "       [9, 6, 1, 0, 1],\n",
              "       [9, 0, 0, 9, 3],\n",
              "       [4, 0, 0, 4, 1],\n",
              "       [7, 3, 2, 4, 7]])"
            ]
          },
          "metadata": {},
          "execution_count": 71
        }
      ]
    },
    {
      "cell_type": "code",
      "metadata": {
        "colab": {
          "base_uri": "https://localhost:8080/"
        },
        "id": "IdFsyyfRqqih",
        "outputId": "6c34e3ab-8a28-4be1-be1b-a407fa99499f"
      },
      "source": [
        "np.random.seed(12)\n",
        "o = np.random.randint(0, 10, size=(5, 5))\n",
        "o"
      ],
      "execution_count": null,
      "outputs": [
        {
          "output_type": "execute_result",
          "data": {
            "text/plain": [
              "array([[6, 1, 2, 3, 3],\n",
              "       [0, 6, 1, 4, 5],\n",
              "       [9, 2, 6, 0, 5],\n",
              "       [8, 2, 9, 3, 4],\n",
              "       [3, 1, 7, 0, 2]])"
            ]
          },
          "metadata": {},
          "execution_count": 73
        }
      ]
    },
    {
      "cell_type": "code",
      "metadata": {
        "colab": {
          "base_uri": "https://localhost:8080/"
        },
        "id": "V4k9FhsBqzZq",
        "outputId": "fad0a4a2-7b5e-4c7d-bac3-76548e89cef4"
      },
      "source": [
        "# array gernation of random number following normal distribution\n",
        "np.random.seed(123)\n",
        "o = np.random.normal(size=(3,3))\n",
        "o"
      ],
      "execution_count": null,
      "outputs": [
        {
          "output_type": "execute_result",
          "data": {
            "text/plain": [
              "array([[-1.0856306 ,  0.99734545,  0.2829785 ],\n",
              "       [-1.50629471, -0.57860025,  1.65143654],\n",
              "       [-2.42667924, -0.42891263,  1.26593626]])"
            ]
          },
          "metadata": {},
          "execution_count": 74
        }
      ]
    },
    {
      "cell_type": "code",
      "metadata": {
        "colab": {
          "base_uri": "https://localhost:8080/"
        },
        "id": "2NXa-vNbrM5-",
        "outputId": "2b7d9565-ba6a-4df8-aaa8-eaf5ffa7f5c9"
      },
      "source": [
        "# matrix multiplication\n",
        "a = np.array([[1,2,3],\n",
        "              [4,5,6],\n",
        "              [7,8,9]])\n",
        "\n",
        "b = np.array([[2,3,4],\n",
        "              [5,6,7],\n",
        "              [8,9,10]])\n",
        "a * b # wrong marix multiplication"
      ],
      "execution_count": null,
      "outputs": [
        {
          "output_type": "execute_result",
          "data": {
            "text/plain": [
              "array([[ 2,  6, 12],\n",
              "       [20, 30, 42],\n",
              "       [56, 72, 90]])"
            ]
          },
          "metadata": {},
          "execution_count": 75
        }
      ]
    },
    {
      "cell_type": "code",
      "metadata": {
        "colab": {
          "base_uri": "https://localhost:8080/"
        },
        "id": "hHMnuLB0r8mJ",
        "outputId": "2767238e-785b-4260-d249-9a03a67ba4b1"
      },
      "source": [
        "a@b # correct matrix multiplication"
      ],
      "execution_count": null,
      "outputs": [
        {
          "output_type": "execute_result",
          "data": {
            "text/plain": [
              "array([[ 36,  42,  48],\n",
              "       [ 81,  96, 111],\n",
              "       [126, 150, 174]])"
            ]
          },
          "metadata": {},
          "execution_count": 76
        }
      ]
    },
    {
      "cell_type": "code",
      "metadata": {
        "colab": {
          "base_uri": "https://localhost:8080/"
        },
        "id": "rsugwBbgr_VS",
        "outputId": "4e56732d-e4c2-43a2-f2cf-69c15d380e6e"
      },
      "source": [
        "np.matmul(a, b) # correct matrix multiplication"
      ],
      "execution_count": null,
      "outputs": [
        {
          "output_type": "execute_result",
          "data": {
            "text/plain": [
              "array([[ 36,  42,  48],\n",
              "       [ 81,  96, 111],\n",
              "       [126, 150, 174]])"
            ]
          },
          "metadata": {},
          "execution_count": 77
        }
      ]
    },
    {
      "cell_type": "code",
      "metadata": {
        "colab": {
          "base_uri": "https://localhost:8080/"
        },
        "id": "_NCZeClLsEzS",
        "outputId": "1c122c8d-5fa9-4929-8020-06e118ad2ed4"
      },
      "source": [
        "b@a"
      ],
      "execution_count": null,
      "outputs": [
        {
          "output_type": "execute_result",
          "data": {
            "text/plain": [
              "array([[ 42,  51,  60],\n",
              "       [ 78,  96, 114],\n",
              "       [114, 141, 168]])"
            ]
          },
          "metadata": {},
          "execution_count": 78
        }
      ]
    },
    {
      "cell_type": "code",
      "metadata": {
        "colab": {
          "base_uri": "https://localhost:8080/"
        },
        "id": "TZ8XbHzesSNk",
        "outputId": "8a67d64c-c1b5-48a3-90ca-d1760cc05169"
      },
      "source": [
        "# matrix transpose\n",
        "a = np.array([[1,2,3],\n",
        "              [4,5,6],\n",
        "              [7,8,9]])\n",
        "a_transpose = a.T\n",
        "a_transpose"
      ],
      "execution_count": null,
      "outputs": [
        {
          "output_type": "execute_result",
          "data": {
            "text/plain": [
              "array([[1, 4, 7],\n",
              "       [2, 5, 8],\n",
              "       [3, 6, 9]])"
            ]
          },
          "metadata": {},
          "execution_count": 79
        }
      ]
    },
    {
      "cell_type": "code",
      "metadata": {
        "colab": {
          "base_uri": "https://localhost:8080/"
        },
        "id": "iVKH_S4tsnAo",
        "outputId": "da3a89a7-2b0b-4881-8c8c-f247b4246f13"
      },
      "source": [
        "a@a_transpose"
      ],
      "execution_count": null,
      "outputs": [
        {
          "output_type": "execute_result",
          "data": {
            "text/plain": [
              "array([[ 14,  32,  50],\n",
              "       [ 32,  77, 122],\n",
              "       [ 50, 122, 194]])"
            ]
          },
          "metadata": {},
          "execution_count": 80
        }
      ]
    },
    {
      "cell_type": "code",
      "metadata": {
        "colab": {
          "base_uri": "https://localhost:8080/"
        },
        "id": "wr6H52GXsrEU",
        "outputId": "fb567018-eee4-49a3-d493-77a8476035f9"
      },
      "source": [
        "a = np.array([[1,2],[3,4]])\n",
        "a"
      ],
      "execution_count": null,
      "outputs": [
        {
          "output_type": "execute_result",
          "data": {
            "text/plain": [
              "array([[1, 2],\n",
              "       [3, 4]])"
            ]
          },
          "metadata": {},
          "execution_count": 87
        }
      ]
    },
    {
      "cell_type": "code",
      "metadata": {
        "id": "Uj0iREORs99V"
      },
      "source": [
        "b = np.linalg.inv(a)"
      ],
      "execution_count": null,
      "outputs": []
    },
    {
      "cell_type": "code",
      "metadata": {
        "colab": {
          "base_uri": "https://localhost:8080/"
        },
        "id": "wJNduIFstXIp",
        "outputId": "551dade7-cf92-4cdd-9342-0e78e8295586"
      },
      "source": [
        "a@b"
      ],
      "execution_count": null,
      "outputs": [
        {
          "output_type": "execute_result",
          "data": {
            "text/plain": [
              "array([[1.0000000e+00, 0.0000000e+00],\n",
              "       [8.8817842e-16, 1.0000000e+00]])"
            ]
          },
          "metadata": {},
          "execution_count": 90
        }
      ]
    },
    {
      "cell_type": "code",
      "metadata": {
        "colab": {
          "base_uri": "https://localhost:8080/"
        },
        "id": "9gMMDbYftrRH",
        "outputId": "f2b27fc6-83e1-4e3e-83cb-fa2c3fc6ee98"
      },
      "source": [
        "# sine of an angle (radians)\n",
        "angles = np.array([3.14, 3.14/2, 6.28, 3*3.14/2])\n",
        "sine_of_angles = np.sin(angles)\n",
        "sine_of_angles"
      ],
      "execution_count": null,
      "outputs": [
        {
          "output_type": "execute_result",
          "data": {
            "text/plain": [
              "array([ 0.00159265,  0.99999968, -0.0031853 , -0.99999715])"
            ]
          },
          "metadata": {},
          "execution_count": 92
        }
      ]
    },
    {
      "cell_type": "code",
      "metadata": {
        "colab": {
          "base_uri": "https://localhost:8080/"
        },
        "id": "2WWH_mHot7R_",
        "outputId": "b9e02e31-d1ec-41dc-fc14-6cd99ef621a7"
      },
      "source": [
        "# cosine of an angle (radians)\n",
        "angles = np.array([3.14, 3.14/2, 6.28, 3*3.14/2])\n",
        "sine_of_angles = np.cos(angles)\n",
        "sine_of_angles"
      ],
      "execution_count": null,
      "outputs": [
        {
          "output_type": "execute_result",
          "data": {
            "text/plain": [
              "array([-9.99998732e-01,  7.96326711e-04,  9.99994927e-01, -2.38897811e-03])"
            ]
          },
          "metadata": {},
          "execution_count": 93
        }
      ]
    },
    {
      "cell_type": "code",
      "metadata": {
        "colab": {
          "base_uri": "https://localhost:8080/"
        },
        "id": "VDfC7021uXBX",
        "outputId": "431cc16c-5fac-4ff0-efb8-131ac2c88bff"
      },
      "source": [
        "# order array elements\n",
        "array = np.array([10,1,5,2])\n",
        "indexes = np.argsort(array)\n",
        "indexes"
      ],
      "execution_count": null,
      "outputs": [
        {
          "output_type": "execute_result",
          "data": {
            "text/plain": [
              "array([1, 3, 2, 0])"
            ]
          },
          "metadata": {},
          "execution_count": 94
        }
      ]
    },
    {
      "cell_type": "code",
      "metadata": {
        "colab": {
          "base_uri": "https://localhost:8080/"
        },
        "id": "A949TmRfukgO",
        "outputId": "310883bc-ad41-4b1b-dd38-57ace0eaf89c"
      },
      "source": [
        "for i in indexes:\n",
        "  print(array[i])"
      ],
      "execution_count": null,
      "outputs": [
        {
          "output_type": "stream",
          "name": "stdout",
          "text": [
            "1\n",
            "2\n",
            "5\n",
            "10\n"
          ]
        }
      ]
    },
    {
      "cell_type": "code",
      "metadata": {
        "id": "ZZPKTdL_uzIU"
      },
      "source": [
        ""
      ],
      "execution_count": null,
      "outputs": []
    }
  ]
}