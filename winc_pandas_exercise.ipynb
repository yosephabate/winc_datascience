{
  "nbformat": 4,
  "nbformat_minor": 0,
  "metadata": {
    "colab": {
      "name": "winc_pandas_exercise.ipynb",
      "provenance": [],
      "authorship_tag": "ABX9TyONpdQkuh7abh7+QFoE/rY0",
      "include_colab_link": true
    },
    "kernelspec": {
      "name": "python3",
      "display_name": "Python 3"
    },
    "language_info": {
      "name": "python"
    }
  },
  "cells": [
    {
      "cell_type": "markdown",
      "metadata": {
        "id": "view-in-github",
        "colab_type": "text"
      },
      "source": [
        "<a href=\"https://colab.research.google.com/github/yosephabate/winc_datascience/blob/main/winc_pandas_exercise.ipynb\" target=\"_parent\"><img src=\"https://colab.research.google.com/assets/colab-badge.svg\" alt=\"Open In Colab\"/></a>"
      ]
    },
    {
      "cell_type": "markdown",
      "source": [
        "# Importing Required Libraries"
      ],
      "metadata": {
        "id": "Ris-iWg66QF-"
      }
    },
    {
      "cell_type": "code",
      "source": [
        "import pandas as pd\n",
        "import numpy as np"
      ],
      "metadata": {
        "id": "T6RiC1qK6Vd3"
      },
      "execution_count": 1,
      "outputs": []
    },
    {
      "cell_type": "markdown",
      "source": [
        "# Ingesting Data from CSV file to DataFrame"
      ],
      "metadata": {
        "id": "qxXh7AvB6cdr"
      }
    },
    {
      "cell_type": "code",
      "source": [
        "tables = pd.read_html('https://en.wikipedia.org/wiki/List_of_sovereign_states_and_dependent_territories_by_birth_rate')\n",
        "countries = tables[0]\n",
        "countries"
      ],
      "metadata": {
        "colab": {
          "base_uri": "https://localhost:8080/",
          "height": 455
        },
        "id": "NJBYo_JM6hZT",
        "outputId": "553e2259-d6bf-4850-f179-fb4555da9e2c"
      },
      "execution_count": 13,
      "outputs": [
        {
          "output_type": "execute_result",
          "data": {
            "text/html": [
              "<div>\n",
              "<style scoped>\n",
              "    .dataframe tbody tr th:only-of-type {\n",
              "        vertical-align: middle;\n",
              "    }\n",
              "\n",
              "    .dataframe tbody tr th {\n",
              "        vertical-align: top;\n",
              "    }\n",
              "\n",
              "    .dataframe thead tr th {\n",
              "        text-align: left;\n",
              "    }\n",
              "</style>\n",
              "<table border=\"1\" class=\"dataframe\">\n",
              "  <thead>\n",
              "    <tr>\n",
              "      <th></th>\n",
              "      <th>Country/territory</th>\n",
              "      <th>WB 2018</th>\n",
              "      <th>OECD 2011</th>\n",
              "      <th>CIA WF 2013</th>\n",
              "      <th>CIA WF 2014</th>\n",
              "      <th>CIA WF 2020</th>\n",
              "      <th>PRB 2020</th>\n",
              "    </tr>\n",
              "    <tr>\n",
              "      <th></th>\n",
              "      <th>Country/territory</th>\n",
              "      <th>Rate ‰</th>\n",
              "      <th>Rate ‰</th>\n",
              "      <th>Rate ‰</th>\n",
              "      <th>Rate ‰</th>\n",
              "      <th>Rate ‰</th>\n",
              "      <th>Rate ‰</th>\n",
              "    </tr>\n",
              "  </thead>\n",
              "  <tbody>\n",
              "    <tr>\n",
              "      <th>0</th>\n",
              "      <td>Afghanistan</td>\n",
              "      <td>32.0</td>\n",
              "      <td>45.1</td>\n",
              "      <td>39.05</td>\n",
              "      <td>38.84</td>\n",
              "      <td>36.7</td>\n",
              "      <td>33.0</td>\n",
              "    </tr>\n",
              "    <tr>\n",
              "      <th>1</th>\n",
              "      <td>Albania</td>\n",
              "      <td>12.0</td>\n",
              "      <td>11.5</td>\n",
              "      <td>12.57</td>\n",
              "      <td>12.73</td>\n",
              "      <td>13.0</td>\n",
              "      <td>10.0</td>\n",
              "    </tr>\n",
              "    <tr>\n",
              "      <th>2</th>\n",
              "      <td>Algeria</td>\n",
              "      <td>24.0</td>\n",
              "      <td>24.8</td>\n",
              "      <td>24.25</td>\n",
              "      <td>23.99</td>\n",
              "      <td>20.0</td>\n",
              "      <td>24.0</td>\n",
              "    </tr>\n",
              "    <tr>\n",
              "      <th>3</th>\n",
              "      <td>Andorra</td>\n",
              "      <td>7.0</td>\n",
              "      <td>10.2</td>\n",
              "      <td>8.88</td>\n",
              "      <td>8.48</td>\n",
              "      <td>7.0</td>\n",
              "      <td>7.0</td>\n",
              "    </tr>\n",
              "    <tr>\n",
              "      <th>4</th>\n",
              "      <td>Angola</td>\n",
              "      <td>41.0</td>\n",
              "      <td>40.9</td>\n",
              "      <td>39.16</td>\n",
              "      <td>38.97</td>\n",
              "      <td>42.7</td>\n",
              "      <td>44.0</td>\n",
              "    </tr>\n",
              "    <tr>\n",
              "      <th>...</th>\n",
              "      <td>...</td>\n",
              "      <td>...</td>\n",
              "      <td>...</td>\n",
              "      <td>...</td>\n",
              "      <td>...</td>\n",
              "      <td>...</td>\n",
              "      <td>...</td>\n",
              "    </tr>\n",
              "    <tr>\n",
              "      <th>233</th>\n",
              "      <td>Turks and Caicos Islands (UK)</td>\n",
              "      <td>NaN</td>\n",
              "      <td>14.8</td>\n",
              "      <td>17.05</td>\n",
              "      <td>16.61</td>\n",
              "      <td>14.1</td>\n",
              "      <td>NaN</td>\n",
              "    </tr>\n",
              "    <tr>\n",
              "      <th>234</th>\n",
              "      <td>U.S. Virgin Islands</td>\n",
              "      <td>13.0</td>\n",
              "      <td>11.1</td>\n",
              "      <td>10.69</td>\n",
              "      <td>10.49</td>\n",
              "      <td>12.1</td>\n",
              "      <td>NaN</td>\n",
              "    </tr>\n",
              "    <tr>\n",
              "      <th>235</th>\n",
              "      <td>Wallis and Futuna (France)</td>\n",
              "      <td>NaN</td>\n",
              "      <td>13.4</td>\n",
              "      <td>13.74</td>\n",
              "      <td>13.56</td>\n",
              "      <td>12.7</td>\n",
              "      <td>NaN</td>\n",
              "    </tr>\n",
              "    <tr>\n",
              "      <th>236</th>\n",
              "      <td>Palestine/Gaza Strip</td>\n",
              "      <td>NaN</td>\n",
              "      <td>NaN</td>\n",
              "      <td>33.27</td>\n",
              "      <td>23.41</td>\n",
              "      <td>28.6</td>\n",
              "      <td>NaN</td>\n",
              "    </tr>\n",
              "    <tr>\n",
              "      <th>237</th>\n",
              "      <td>World</td>\n",
              "      <td>19.0</td>\n",
              "      <td>19.4</td>\n",
              "      <td>19.40</td>\n",
              "      <td>19.40</td>\n",
              "      <td>NaN</td>\n",
              "      <td>NaN</td>\n",
              "    </tr>\n",
              "  </tbody>\n",
              "</table>\n",
              "<p>238 rows × 7 columns</p>\n",
              "</div>"
            ],
            "text/plain": [
              "                 Country/territory WB 2018  ... CIA WF 2020 PRB 2020\n",
              "                 Country/territory  Rate ‰  ...      Rate ‰   Rate ‰\n",
              "0                      Afghanistan    32.0  ...        36.7     33.0\n",
              "1                          Albania    12.0  ...        13.0     10.0\n",
              "2                          Algeria    24.0  ...        20.0     24.0\n",
              "3                          Andorra     7.0  ...         7.0      7.0\n",
              "4                           Angola    41.0  ...        42.7     44.0\n",
              "..                             ...     ...  ...         ...      ...\n",
              "233  Turks and Caicos Islands (UK)     NaN  ...        14.1      NaN\n",
              "234            U.S. Virgin Islands    13.0  ...        12.1      NaN\n",
              "235     Wallis and Futuna (France)     NaN  ...        12.7      NaN\n",
              "236           Palestine/Gaza Strip     NaN  ...        28.6      NaN\n",
              "237                          World    19.0  ...         NaN      NaN\n",
              "\n",
              "[238 rows x 7 columns]"
            ]
          },
          "metadata": {},
          "execution_count": 13
        }
      ]
    },
    {
      "cell_type": "markdown",
      "source": [
        "# Renaming Columns"
      ],
      "metadata": {
        "id": "Tw5TPoOt75iG"
      }
    },
    {
      "cell_type": "code",
      "source": [
        "countries.columns"
      ],
      "metadata": {
        "colab": {
          "base_uri": "https://localhost:8080/"
        },
        "id": "xTzIg_p578EE",
        "outputId": "441a9108-be9f-44ef-91b5-e66def0e3d04"
      },
      "execution_count": 14,
      "outputs": [
        {
          "output_type": "execute_result",
          "data": {
            "text/plain": [
              "MultiIndex([('Country/territory', 'Country/territory'),\n",
              "            (          'WB 2018',            'Rate ‰'),\n",
              "            (        'OECD 2011',            'Rate ‰'),\n",
              "            (      'CIA WF 2013',            'Rate ‰'),\n",
              "            (      'CIA WF 2014',            'Rate ‰'),\n",
              "            (      'CIA WF 2020',            'Rate ‰'),\n",
              "            (         'PRB 2020',            'Rate ‰')],\n",
              "           )"
            ]
          },
          "metadata": {},
          "execution_count": 14
        }
      ]
    },
    {
      "cell_type": "code",
      "source": [
        "countries.columns = ['country', 'wb2018', 'oecd2011', 'ciawf2013', 'ciawf2014', 'ciawf2020', 'prb2020']"
      ],
      "metadata": {
        "id": "WEb-HDn18BKp"
      },
      "execution_count": 15,
      "outputs": []
    },
    {
      "cell_type": "code",
      "source": [
        "countries.columns"
      ],
      "metadata": {
        "colab": {
          "base_uri": "https://localhost:8080/"
        },
        "id": "6iGWNC038ypw",
        "outputId": "ec5b339f-1284-4ab9-af14-0c88d89dedbe"
      },
      "execution_count": 16,
      "outputs": [
        {
          "output_type": "execute_result",
          "data": {
            "text/plain": [
              "Index(['country', 'wb2018', 'oecd2011', 'ciawf2013', 'ciawf2014', 'ciawf2020',\n",
              "       'prb2020'],\n",
              "      dtype='object')"
            ]
          },
          "metadata": {},
          "execution_count": 16
        }
      ]
    },
    {
      "cell_type": "code",
      "source": [
        "countries.head()"
      ],
      "metadata": {
        "colab": {
          "base_uri": "https://localhost:8080/",
          "height": 206
        },
        "id": "6kL0sk8V80G_",
        "outputId": "7d886175-9282-4166-914b-713b53cf269d"
      },
      "execution_count": 17,
      "outputs": [
        {
          "output_type": "execute_result",
          "data": {
            "text/html": [
              "<div>\n",
              "<style scoped>\n",
              "    .dataframe tbody tr th:only-of-type {\n",
              "        vertical-align: middle;\n",
              "    }\n",
              "\n",
              "    .dataframe tbody tr th {\n",
              "        vertical-align: top;\n",
              "    }\n",
              "\n",
              "    .dataframe thead th {\n",
              "        text-align: right;\n",
              "    }\n",
              "</style>\n",
              "<table border=\"1\" class=\"dataframe\">\n",
              "  <thead>\n",
              "    <tr style=\"text-align: right;\">\n",
              "      <th></th>\n",
              "      <th>country</th>\n",
              "      <th>wb2018</th>\n",
              "      <th>oecd2011</th>\n",
              "      <th>ciawf2013</th>\n",
              "      <th>ciawf2014</th>\n",
              "      <th>ciawf2020</th>\n",
              "      <th>prb2020</th>\n",
              "    </tr>\n",
              "  </thead>\n",
              "  <tbody>\n",
              "    <tr>\n",
              "      <th>0</th>\n",
              "      <td>Afghanistan</td>\n",
              "      <td>32.0</td>\n",
              "      <td>45.1</td>\n",
              "      <td>39.05</td>\n",
              "      <td>38.84</td>\n",
              "      <td>36.7</td>\n",
              "      <td>33.0</td>\n",
              "    </tr>\n",
              "    <tr>\n",
              "      <th>1</th>\n",
              "      <td>Albania</td>\n",
              "      <td>12.0</td>\n",
              "      <td>11.5</td>\n",
              "      <td>12.57</td>\n",
              "      <td>12.73</td>\n",
              "      <td>13.0</td>\n",
              "      <td>10.0</td>\n",
              "    </tr>\n",
              "    <tr>\n",
              "      <th>2</th>\n",
              "      <td>Algeria</td>\n",
              "      <td>24.0</td>\n",
              "      <td>24.8</td>\n",
              "      <td>24.25</td>\n",
              "      <td>23.99</td>\n",
              "      <td>20.0</td>\n",
              "      <td>24.0</td>\n",
              "    </tr>\n",
              "    <tr>\n",
              "      <th>3</th>\n",
              "      <td>Andorra</td>\n",
              "      <td>7.0</td>\n",
              "      <td>10.2</td>\n",
              "      <td>8.88</td>\n",
              "      <td>8.48</td>\n",
              "      <td>7.0</td>\n",
              "      <td>7.0</td>\n",
              "    </tr>\n",
              "    <tr>\n",
              "      <th>4</th>\n",
              "      <td>Angola</td>\n",
              "      <td>41.0</td>\n",
              "      <td>40.9</td>\n",
              "      <td>39.16</td>\n",
              "      <td>38.97</td>\n",
              "      <td>42.7</td>\n",
              "      <td>44.0</td>\n",
              "    </tr>\n",
              "  </tbody>\n",
              "</table>\n",
              "</div>"
            ],
            "text/plain": [
              "       country  wb2018  oecd2011  ciawf2013  ciawf2014  ciawf2020  prb2020\n",
              "0  Afghanistan    32.0      45.1      39.05      38.84       36.7     33.0\n",
              "1      Albania    12.0      11.5      12.57      12.73       13.0     10.0\n",
              "2      Algeria    24.0      24.8      24.25      23.99       20.0     24.0\n",
              "3      Andorra     7.0      10.2       8.88       8.48        7.0      7.0\n",
              "4       Angola    41.0      40.9      39.16      38.97       42.7     44.0"
            ]
          },
          "metadata": {},
          "execution_count": 17
        }
      ]
    },
    {
      "cell_type": "markdown",
      "source": [
        "# Observation of Data"
      ],
      "metadata": {
        "id": "00yKg-Yd9ApR"
      }
    },
    {
      "cell_type": "code",
      "source": [
        "countries.info()"
      ],
      "metadata": {
        "colab": {
          "base_uri": "https://localhost:8080/"
        },
        "id": "vs-0cHq_9DEi",
        "outputId": "e7c5b9e2-1e3d-4e27-9d75-e31c4fddf964"
      },
      "execution_count": 18,
      "outputs": [
        {
          "output_type": "stream",
          "name": "stdout",
          "text": [
            "<class 'pandas.core.frame.DataFrame'>\n",
            "RangeIndex: 238 entries, 0 to 237\n",
            "Data columns (total 7 columns):\n",
            " #   Column     Non-Null Count  Dtype  \n",
            "---  ------     --------------  -----  \n",
            " 0   country    238 non-null    object \n",
            " 1   wb2018     206 non-null    float64\n",
            " 2   oecd2011   233 non-null    float64\n",
            " 3   ciawf2013  225 non-null    float64\n",
            " 4   ciawf2014  225 non-null    float64\n",
            " 5   ciawf2020  229 non-null    float64\n",
            " 6   prb2020    200 non-null    float64\n",
            "dtypes: float64(6), object(1)\n",
            "memory usage: 13.1+ KB\n"
          ]
        }
      ]
    },
    {
      "cell_type": "code",
      "source": [
        "countries.describe()"
      ],
      "metadata": {
        "colab": {
          "base_uri": "https://localhost:8080/",
          "height": 300
        },
        "id": "McMiGKBR9KhE",
        "outputId": "41b11e6e-46c1-4854-b379-02bff02ad7e3"
      },
      "execution_count": 19,
      "outputs": [
        {
          "output_type": "execute_result",
          "data": {
            "text/html": [
              "<div>\n",
              "<style scoped>\n",
              "    .dataframe tbody tr th:only-of-type {\n",
              "        vertical-align: middle;\n",
              "    }\n",
              "\n",
              "    .dataframe tbody tr th {\n",
              "        vertical-align: top;\n",
              "    }\n",
              "\n",
              "    .dataframe thead th {\n",
              "        text-align: right;\n",
              "    }\n",
              "</style>\n",
              "<table border=\"1\" class=\"dataframe\">\n",
              "  <thead>\n",
              "    <tr style=\"text-align: right;\">\n",
              "      <th></th>\n",
              "      <th>wb2018</th>\n",
              "      <th>oecd2011</th>\n",
              "      <th>ciawf2013</th>\n",
              "      <th>ciawf2014</th>\n",
              "      <th>ciawf2020</th>\n",
              "      <th>prb2020</th>\n",
              "    </tr>\n",
              "  </thead>\n",
              "  <tbody>\n",
              "    <tr>\n",
              "      <th>count</th>\n",
              "      <td>206.000000</td>\n",
              "      <td>233.000000</td>\n",
              "      <td>225.000000</td>\n",
              "      <td>225.000000</td>\n",
              "      <td>229.000000</td>\n",
              "      <td>200.000000</td>\n",
              "    </tr>\n",
              "    <tr>\n",
              "      <th>mean</th>\n",
              "      <td>19.790291</td>\n",
              "      <td>20.509785</td>\n",
              "      <td>19.850889</td>\n",
              "      <td>19.653822</td>\n",
              "      <td>18.451965</td>\n",
              "      <td>19.950000</td>\n",
              "    </tr>\n",
              "    <tr>\n",
              "      <th>std</th>\n",
              "      <td>9.809100</td>\n",
              "      <td>10.150722</td>\n",
              "      <td>9.797196</td>\n",
              "      <td>9.647888</td>\n",
              "      <td>9.322057</td>\n",
              "      <td>10.153965</td>\n",
              "    </tr>\n",
              "    <tr>\n",
              "      <th>min</th>\n",
              "      <td>6.000000</td>\n",
              "      <td>8.100000</td>\n",
              "      <td>6.790000</td>\n",
              "      <td>6.720000</td>\n",
              "      <td>6.400000</td>\n",
              "      <td>6.000000</td>\n",
              "    </tr>\n",
              "    <tr>\n",
              "      <th>25%</th>\n",
              "      <td>11.000000</td>\n",
              "      <td>11.900000</td>\n",
              "      <td>11.720000</td>\n",
              "      <td>11.780000</td>\n",
              "      <td>11.400000</td>\n",
              "      <td>11.000000</td>\n",
              "    </tr>\n",
              "    <tr>\n",
              "      <th>50%</th>\n",
              "      <td>18.000000</td>\n",
              "      <td>17.500000</td>\n",
              "      <td>17.170000</td>\n",
              "      <td>16.900000</td>\n",
              "      <td>15.400000</td>\n",
              "      <td>18.000000</td>\n",
              "    </tr>\n",
              "    <tr>\n",
              "      <th>75%</th>\n",
              "      <td>27.000000</td>\n",
              "      <td>27.500000</td>\n",
              "      <td>25.400000</td>\n",
              "      <td>24.890000</td>\n",
              "      <td>23.100000</td>\n",
              "      <td>27.000000</td>\n",
              "    </tr>\n",
              "    <tr>\n",
              "      <th>max</th>\n",
              "      <td>46.000000</td>\n",
              "      <td>46.000000</td>\n",
              "      <td>46.840000</td>\n",
              "      <td>46.120000</td>\n",
              "      <td>47.500000</td>\n",
              "      <td>48.000000</td>\n",
              "    </tr>\n",
              "  </tbody>\n",
              "</table>\n",
              "</div>"
            ],
            "text/plain": [
              "           wb2018    oecd2011   ciawf2013   ciawf2014   ciawf2020     prb2020\n",
              "count  206.000000  233.000000  225.000000  225.000000  229.000000  200.000000\n",
              "mean    19.790291   20.509785   19.850889   19.653822   18.451965   19.950000\n",
              "std      9.809100   10.150722    9.797196    9.647888    9.322057   10.153965\n",
              "min      6.000000    8.100000    6.790000    6.720000    6.400000    6.000000\n",
              "25%     11.000000   11.900000   11.720000   11.780000   11.400000   11.000000\n",
              "50%     18.000000   17.500000   17.170000   16.900000   15.400000   18.000000\n",
              "75%     27.000000   27.500000   25.400000   24.890000   23.100000   27.000000\n",
              "max     46.000000   46.000000   46.840000   46.120000   47.500000   48.000000"
            ]
          },
          "metadata": {},
          "execution_count": 19
        }
      ]
    },
    {
      "cell_type": "code",
      "source": [
        "countries.shape"
      ],
      "metadata": {
        "colab": {
          "base_uri": "https://localhost:8080/"
        },
        "id": "HPky7Ni59WCl",
        "outputId": "fffcd2bc-1ae2-47b3-bc83-d0bae943c372"
      },
      "execution_count": 20,
      "outputs": [
        {
          "output_type": "execute_result",
          "data": {
            "text/plain": [
              "(238, 7)"
            ]
          },
          "metadata": {},
          "execution_count": 20
        }
      ]
    },
    {
      "cell_type": "markdown",
      "source": [
        "# Selection of Data"
      ],
      "metadata": {
        "id": "7u1QZYsa9gYC"
      }
    },
    {
      "cell_type": "code",
      "source": [
        "# select all countries\n",
        "# countries.loc[rows, columns]\n",
        "all_countries = countries.loc[:, :]\n",
        "all_countries"
      ],
      "metadata": {
        "colab": {
          "base_uri": "https://localhost:8080/",
          "height": 423
        },
        "id": "Iwip419F9wSz",
        "outputId": "14a0db5c-e514-4388-a560-122398087143"
      },
      "execution_count": 36,
      "outputs": [
        {
          "output_type": "execute_result",
          "data": {
            "text/html": [
              "<div>\n",
              "<style scoped>\n",
              "    .dataframe tbody tr th:only-of-type {\n",
              "        vertical-align: middle;\n",
              "    }\n",
              "\n",
              "    .dataframe tbody tr th {\n",
              "        vertical-align: top;\n",
              "    }\n",
              "\n",
              "    .dataframe thead th {\n",
              "        text-align: right;\n",
              "    }\n",
              "</style>\n",
              "<table border=\"1\" class=\"dataframe\">\n",
              "  <thead>\n",
              "    <tr style=\"text-align: right;\">\n",
              "      <th></th>\n",
              "      <th>country</th>\n",
              "      <th>wb2018</th>\n",
              "      <th>oecd2011</th>\n",
              "      <th>ciawf2013</th>\n",
              "      <th>ciawf2014</th>\n",
              "      <th>ciawf2020</th>\n",
              "      <th>prb2020</th>\n",
              "    </tr>\n",
              "  </thead>\n",
              "  <tbody>\n",
              "    <tr>\n",
              "      <th>0</th>\n",
              "      <td>Afghanistan</td>\n",
              "      <td>32.0</td>\n",
              "      <td>45.1</td>\n",
              "      <td>39.05</td>\n",
              "      <td>38.84</td>\n",
              "      <td>36.7</td>\n",
              "      <td>33.0</td>\n",
              "    </tr>\n",
              "    <tr>\n",
              "      <th>1</th>\n",
              "      <td>Albania</td>\n",
              "      <td>12.0</td>\n",
              "      <td>11.5</td>\n",
              "      <td>12.57</td>\n",
              "      <td>12.73</td>\n",
              "      <td>13.0</td>\n",
              "      <td>10.0</td>\n",
              "    </tr>\n",
              "    <tr>\n",
              "      <th>2</th>\n",
              "      <td>Algeria</td>\n",
              "      <td>24.0</td>\n",
              "      <td>24.8</td>\n",
              "      <td>24.25</td>\n",
              "      <td>23.99</td>\n",
              "      <td>20.0</td>\n",
              "      <td>24.0</td>\n",
              "    </tr>\n",
              "    <tr>\n",
              "      <th>3</th>\n",
              "      <td>Andorra</td>\n",
              "      <td>7.0</td>\n",
              "      <td>10.2</td>\n",
              "      <td>8.88</td>\n",
              "      <td>8.48</td>\n",
              "      <td>7.0</td>\n",
              "      <td>7.0</td>\n",
              "    </tr>\n",
              "    <tr>\n",
              "      <th>4</th>\n",
              "      <td>Angola</td>\n",
              "      <td>41.0</td>\n",
              "      <td>40.9</td>\n",
              "      <td>39.16</td>\n",
              "      <td>38.97</td>\n",
              "      <td>42.7</td>\n",
              "      <td>44.0</td>\n",
              "    </tr>\n",
              "    <tr>\n",
              "      <th>...</th>\n",
              "      <td>...</td>\n",
              "      <td>...</td>\n",
              "      <td>...</td>\n",
              "      <td>...</td>\n",
              "      <td>...</td>\n",
              "      <td>...</td>\n",
              "      <td>...</td>\n",
              "    </tr>\n",
              "    <tr>\n",
              "      <th>233</th>\n",
              "      <td>Turks and Caicos Islands (UK)</td>\n",
              "      <td>NaN</td>\n",
              "      <td>14.8</td>\n",
              "      <td>17.05</td>\n",
              "      <td>16.61</td>\n",
              "      <td>14.1</td>\n",
              "      <td>NaN</td>\n",
              "    </tr>\n",
              "    <tr>\n",
              "      <th>234</th>\n",
              "      <td>U.S. Virgin Islands</td>\n",
              "      <td>13.0</td>\n",
              "      <td>11.1</td>\n",
              "      <td>10.69</td>\n",
              "      <td>10.49</td>\n",
              "      <td>12.1</td>\n",
              "      <td>NaN</td>\n",
              "    </tr>\n",
              "    <tr>\n",
              "      <th>235</th>\n",
              "      <td>Wallis and Futuna (France)</td>\n",
              "      <td>NaN</td>\n",
              "      <td>13.4</td>\n",
              "      <td>13.74</td>\n",
              "      <td>13.56</td>\n",
              "      <td>12.7</td>\n",
              "      <td>NaN</td>\n",
              "    </tr>\n",
              "    <tr>\n",
              "      <th>236</th>\n",
              "      <td>Palestine/Gaza Strip</td>\n",
              "      <td>NaN</td>\n",
              "      <td>NaN</td>\n",
              "      <td>33.27</td>\n",
              "      <td>23.41</td>\n",
              "      <td>28.6</td>\n",
              "      <td>NaN</td>\n",
              "    </tr>\n",
              "    <tr>\n",
              "      <th>237</th>\n",
              "      <td>World</td>\n",
              "      <td>19.0</td>\n",
              "      <td>19.4</td>\n",
              "      <td>19.40</td>\n",
              "      <td>19.40</td>\n",
              "      <td>NaN</td>\n",
              "      <td>NaN</td>\n",
              "    </tr>\n",
              "  </tbody>\n",
              "</table>\n",
              "<p>238 rows × 7 columns</p>\n",
              "</div>"
            ],
            "text/plain": [
              "                           country  wb2018  ...  ciawf2020  prb2020\n",
              "0                      Afghanistan    32.0  ...       36.7     33.0\n",
              "1                          Albania    12.0  ...       13.0     10.0\n",
              "2                          Algeria    24.0  ...       20.0     24.0\n",
              "3                          Andorra     7.0  ...        7.0      7.0\n",
              "4                           Angola    41.0  ...       42.7     44.0\n",
              "..                             ...     ...  ...        ...      ...\n",
              "233  Turks and Caicos Islands (UK)     NaN  ...       14.1      NaN\n",
              "234            U.S. Virgin Islands    13.0  ...       12.1      NaN\n",
              "235     Wallis and Futuna (France)     NaN  ...       12.7      NaN\n",
              "236           Palestine/Gaza Strip     NaN  ...       28.6      NaN\n",
              "237                          World    19.0  ...        NaN      NaN\n",
              "\n",
              "[238 rows x 7 columns]"
            ]
          },
          "metadata": {},
          "execution_count": 36
        }
      ]
    },
    {
      "cell_type": "code",
      "source": [
        "# select \"dependent territories\"\n",
        "# The list of \"dependendent territories\" starts with Anguilla.\n",
        "dependent_countries_condition = countries.country.str.contains('Anguilla')\n",
        "dependent_countries = countries.loc[dependent_countries_condition, :]\n",
        "dependent_countries"
      ],
      "metadata": {
        "colab": {
          "base_uri": "https://localhost:8080/",
          "height": 81
        },
        "id": "tbE8b4W5-BIs",
        "outputId": "adddb1b8-b11a-4ebc-f3d2-09f5560e0590"
      },
      "execution_count": 35,
      "outputs": [
        {
          "output_type": "execute_result",
          "data": {
            "text/html": [
              "<div>\n",
              "<style scoped>\n",
              "    .dataframe tbody tr th:only-of-type {\n",
              "        vertical-align: middle;\n",
              "    }\n",
              "\n",
              "    .dataframe tbody tr th {\n",
              "        vertical-align: top;\n",
              "    }\n",
              "\n",
              "    .dataframe thead th {\n",
              "        text-align: right;\n",
              "    }\n",
              "</style>\n",
              "<table border=\"1\" class=\"dataframe\">\n",
              "  <thead>\n",
              "    <tr style=\"text-align: right;\">\n",
              "      <th></th>\n",
              "      <th>country</th>\n",
              "      <th>wb2018</th>\n",
              "      <th>oecd2011</th>\n",
              "      <th>ciawf2013</th>\n",
              "      <th>ciawf2014</th>\n",
              "      <th>ciawf2020</th>\n",
              "      <th>prb2020</th>\n",
              "    </tr>\n",
              "  </thead>\n",
              "  <tbody>\n",
              "    <tr>\n",
              "      <th>196</th>\n",
              "      <td>Anguilla (UK)</td>\n",
              "      <td>NaN</td>\n",
              "      <td>11.1</td>\n",
              "      <td>12.82</td>\n",
              "      <td>12.68</td>\n",
              "      <td>12.2</td>\n",
              "      <td>NaN</td>\n",
              "    </tr>\n",
              "  </tbody>\n",
              "</table>\n",
              "</div>"
            ],
            "text/plain": [
              "           country  wb2018  oecd2011  ciawf2013  ciawf2014  ciawf2020  prb2020\n",
              "196  Anguilla (UK)     NaN      11.1      12.82      12.68       12.2      NaN"
            ]
          },
          "metadata": {},
          "execution_count": 35
        }
      ]
    },
    {
      "cell_type": "code",
      "source": [
        "# Select all countries, but not the dependendent territories. Include all columns.\n",
        "non_dependent_countries = countries.loc[~dependent_countries_condition, :]\n",
        "non_dependent_countries"
      ],
      "metadata": {
        "colab": {
          "base_uri": "https://localhost:8080/",
          "height": 423
        },
        "id": "Z11EBKSs-aEK",
        "outputId": "da1d28ad-4dd1-43ff-b7ca-2aa167814ec1"
      },
      "execution_count": 38,
      "outputs": [
        {
          "output_type": "execute_result",
          "data": {
            "text/html": [
              "<div>\n",
              "<style scoped>\n",
              "    .dataframe tbody tr th:only-of-type {\n",
              "        vertical-align: middle;\n",
              "    }\n",
              "\n",
              "    .dataframe tbody tr th {\n",
              "        vertical-align: top;\n",
              "    }\n",
              "\n",
              "    .dataframe thead th {\n",
              "        text-align: right;\n",
              "    }\n",
              "</style>\n",
              "<table border=\"1\" class=\"dataframe\">\n",
              "  <thead>\n",
              "    <tr style=\"text-align: right;\">\n",
              "      <th></th>\n",
              "      <th>country</th>\n",
              "      <th>wb2018</th>\n",
              "      <th>oecd2011</th>\n",
              "      <th>ciawf2013</th>\n",
              "      <th>ciawf2014</th>\n",
              "      <th>ciawf2020</th>\n",
              "      <th>prb2020</th>\n",
              "    </tr>\n",
              "  </thead>\n",
              "  <tbody>\n",
              "    <tr>\n",
              "      <th>0</th>\n",
              "      <td>Afghanistan</td>\n",
              "      <td>32.0</td>\n",
              "      <td>45.1</td>\n",
              "      <td>39.05</td>\n",
              "      <td>38.84</td>\n",
              "      <td>36.7</td>\n",
              "      <td>33.0</td>\n",
              "    </tr>\n",
              "    <tr>\n",
              "      <th>1</th>\n",
              "      <td>Albania</td>\n",
              "      <td>12.0</td>\n",
              "      <td>11.5</td>\n",
              "      <td>12.57</td>\n",
              "      <td>12.73</td>\n",
              "      <td>13.0</td>\n",
              "      <td>10.0</td>\n",
              "    </tr>\n",
              "    <tr>\n",
              "      <th>2</th>\n",
              "      <td>Algeria</td>\n",
              "      <td>24.0</td>\n",
              "      <td>24.8</td>\n",
              "      <td>24.25</td>\n",
              "      <td>23.99</td>\n",
              "      <td>20.0</td>\n",
              "      <td>24.0</td>\n",
              "    </tr>\n",
              "    <tr>\n",
              "      <th>3</th>\n",
              "      <td>Andorra</td>\n",
              "      <td>7.0</td>\n",
              "      <td>10.2</td>\n",
              "      <td>8.88</td>\n",
              "      <td>8.48</td>\n",
              "      <td>7.0</td>\n",
              "      <td>7.0</td>\n",
              "    </tr>\n",
              "    <tr>\n",
              "      <th>4</th>\n",
              "      <td>Angola</td>\n",
              "      <td>41.0</td>\n",
              "      <td>40.9</td>\n",
              "      <td>39.16</td>\n",
              "      <td>38.97</td>\n",
              "      <td>42.7</td>\n",
              "      <td>44.0</td>\n",
              "    </tr>\n",
              "    <tr>\n",
              "      <th>...</th>\n",
              "      <td>...</td>\n",
              "      <td>...</td>\n",
              "      <td>...</td>\n",
              "      <td>...</td>\n",
              "      <td>...</td>\n",
              "      <td>...</td>\n",
              "      <td>...</td>\n",
              "    </tr>\n",
              "    <tr>\n",
              "      <th>233</th>\n",
              "      <td>Turks and Caicos Islands (UK)</td>\n",
              "      <td>NaN</td>\n",
              "      <td>14.8</td>\n",
              "      <td>17.05</td>\n",
              "      <td>16.61</td>\n",
              "      <td>14.1</td>\n",
              "      <td>NaN</td>\n",
              "    </tr>\n",
              "    <tr>\n",
              "      <th>234</th>\n",
              "      <td>U.S. Virgin Islands</td>\n",
              "      <td>13.0</td>\n",
              "      <td>11.1</td>\n",
              "      <td>10.69</td>\n",
              "      <td>10.49</td>\n",
              "      <td>12.1</td>\n",
              "      <td>NaN</td>\n",
              "    </tr>\n",
              "    <tr>\n",
              "      <th>235</th>\n",
              "      <td>Wallis and Futuna (France)</td>\n",
              "      <td>NaN</td>\n",
              "      <td>13.4</td>\n",
              "      <td>13.74</td>\n",
              "      <td>13.56</td>\n",
              "      <td>12.7</td>\n",
              "      <td>NaN</td>\n",
              "    </tr>\n",
              "    <tr>\n",
              "      <th>236</th>\n",
              "      <td>Palestine/Gaza Strip</td>\n",
              "      <td>NaN</td>\n",
              "      <td>NaN</td>\n",
              "      <td>33.27</td>\n",
              "      <td>23.41</td>\n",
              "      <td>28.6</td>\n",
              "      <td>NaN</td>\n",
              "    </tr>\n",
              "    <tr>\n",
              "      <th>237</th>\n",
              "      <td>World</td>\n",
              "      <td>19.0</td>\n",
              "      <td>19.4</td>\n",
              "      <td>19.40</td>\n",
              "      <td>19.40</td>\n",
              "      <td>NaN</td>\n",
              "      <td>NaN</td>\n",
              "    </tr>\n",
              "  </tbody>\n",
              "</table>\n",
              "<p>237 rows × 7 columns</p>\n",
              "</div>"
            ],
            "text/plain": [
              "                           country  wb2018  ...  ciawf2020  prb2020\n",
              "0                      Afghanistan    32.0  ...       36.7     33.0\n",
              "1                          Albania    12.0  ...       13.0     10.0\n",
              "2                          Algeria    24.0  ...       20.0     24.0\n",
              "3                          Andorra     7.0  ...        7.0      7.0\n",
              "4                           Angola    41.0  ...       42.7     44.0\n",
              "..                             ...     ...  ...        ...      ...\n",
              "233  Turks and Caicos Islands (UK)     NaN  ...       14.1      NaN\n",
              "234            U.S. Virgin Islands    13.0  ...       12.1      NaN\n",
              "235     Wallis and Futuna (France)     NaN  ...       12.7      NaN\n",
              "236           Palestine/Gaza Strip     NaN  ...       28.6      NaN\n",
              "237                          World    19.0  ...        NaN      NaN\n",
              "\n",
              "[237 rows x 7 columns]"
            ]
          },
          "metadata": {},
          "execution_count": 38
        }
      ]
    },
    {
      "cell_type": "code",
      "source": [
        "# Select the countries that have a birthrate higher than 40 according to the Population Reference Bureau. \n",
        "# Select only the columns with the country name and the PRB birth rate.\n",
        "prb_rate_more_than_40_condition = countries.prb2020 > 40\n",
        "prb_rate_more_than_40 = countries.loc[prb_rate_more_than_40_condition, ['country', 'prb2020']]\n",
        "prb_rate_more_than_40"
      ],
      "metadata": {
        "colab": {
          "base_uri": "https://localhost:8080/",
          "height": 269
        },
        "id": "ImBu2xg4_LBG",
        "outputId": "b5138a5a-e25f-4247-d00f-f9848b80a36e"
      },
      "execution_count": 41,
      "outputs": [
        {
          "output_type": "execute_result",
          "data": {
            "text/html": [
              "<div>\n",
              "<style scoped>\n",
              "    .dataframe tbody tr th:only-of-type {\n",
              "        vertical-align: middle;\n",
              "    }\n",
              "\n",
              "    .dataframe tbody tr th {\n",
              "        vertical-align: top;\n",
              "    }\n",
              "\n",
              "    .dataframe thead th {\n",
              "        text-align: right;\n",
              "    }\n",
              "</style>\n",
              "<table border=\"1\" class=\"dataframe\">\n",
              "  <thead>\n",
              "    <tr style=\"text-align: right;\">\n",
              "      <th></th>\n",
              "      <th>country</th>\n",
              "      <th>prb2020</th>\n",
              "    </tr>\n",
              "  </thead>\n",
              "  <tbody>\n",
              "    <tr>\n",
              "      <th>4</th>\n",
              "      <td>Angola</td>\n",
              "      <td>44.0</td>\n",
              "    </tr>\n",
              "    <tr>\n",
              "      <th>18</th>\n",
              "      <td>Benin</td>\n",
              "      <td>42.0</td>\n",
              "    </tr>\n",
              "    <tr>\n",
              "      <th>33</th>\n",
              "      <td>Chad</td>\n",
              "      <td>43.0</td>\n",
              "    </tr>\n",
              "    <tr>\n",
              "      <th>38</th>\n",
              "      <td>DR Congo</td>\n",
              "      <td>44.0</td>\n",
              "    </tr>\n",
              "    <tr>\n",
              "      <th>107</th>\n",
              "      <td>Mali</td>\n",
              "      <td>46.0</td>\n",
              "    </tr>\n",
              "    <tr>\n",
              "      <th>127</th>\n",
              "      <td>Niger</td>\n",
              "      <td>48.0</td>\n",
              "    </tr>\n",
              "    <tr>\n",
              "      <th>160</th>\n",
              "      <td>Somalia</td>\n",
              "      <td>42.0</td>\n",
              "    </tr>\n",
              "  </tbody>\n",
              "</table>\n",
              "</div>"
            ],
            "text/plain": [
              "      country  prb2020\n",
              "4      Angola     44.0\n",
              "18      Benin     42.0\n",
              "33       Chad     43.0\n",
              "38   DR Congo     44.0\n",
              "107      Mali     46.0\n",
              "127     Niger     48.0\n",
              "160   Somalia     42.0"
            ]
          },
          "metadata": {},
          "execution_count": 41
        }
      ]
    },
    {
      "cell_type": "code",
      "source": [
        "# Select the countries that have \"stan\" in their name and a birthrate that's lower than 25 according to the CIA in 2020. \n",
        "# Select only the columns for country and CIA 2020 birth rate.\n",
        "country_name_with_stan = countries.country.str.contains('stan')\n",
        "cia2020_rate_less_than_25 = countries.ciawf2020 < 25\n",
        "stan_countries_birth_rate_less_than_25 = countries.loc[(country_name_with_stan & cia2020_rate_less_than_25), ['country', 'ciawf2020']]\n",
        "stan_countries_birth_rate_less_than_25"
      ],
      "metadata": {
        "colab": {
          "base_uri": "https://localhost:8080/",
          "height": 238
        },
        "id": "E2_U45N2Atxj",
        "outputId": "5812d32b-b538-4ef0-cc7d-b666dab57152"
      },
      "execution_count": 46,
      "outputs": [
        {
          "output_type": "execute_result",
          "data": {
            "text/html": [
              "<div>\n",
              "<style scoped>\n",
              "    .dataframe tbody tr th:only-of-type {\n",
              "        vertical-align: middle;\n",
              "    }\n",
              "\n",
              "    .dataframe tbody tr th {\n",
              "        vertical-align: top;\n",
              "    }\n",
              "\n",
              "    .dataframe thead th {\n",
              "        text-align: right;\n",
              "    }\n",
              "</style>\n",
              "<table border=\"1\" class=\"dataframe\">\n",
              "  <thead>\n",
              "    <tr style=\"text-align: right;\">\n",
              "      <th></th>\n",
              "      <th>country</th>\n",
              "      <th>ciawf2020</th>\n",
              "    </tr>\n",
              "  </thead>\n",
              "  <tbody>\n",
              "    <tr>\n",
              "      <th>86</th>\n",
              "      <td>Kazakhstan</td>\n",
              "      <td>16.4</td>\n",
              "    </tr>\n",
              "    <tr>\n",
              "      <th>92</th>\n",
              "      <td>Kyrgyzstan</td>\n",
              "      <td>20.6</td>\n",
              "    </tr>\n",
              "    <tr>\n",
              "      <th>171</th>\n",
              "      <td>Tajikistan</td>\n",
              "      <td>21.8</td>\n",
              "    </tr>\n",
              "    <tr>\n",
              "      <th>180</th>\n",
              "      <td>Turkmenistan</td>\n",
              "      <td>18.3</td>\n",
              "    </tr>\n",
              "    <tr>\n",
              "      <th>188</th>\n",
              "      <td>Uzbekistan</td>\n",
              "      <td>16.1</td>\n",
              "    </tr>\n",
              "    <tr>\n",
              "      <th>227</th>\n",
              "      <td>Saint Helena, Ascension and Tristan da Cunha (UK)</td>\n",
              "      <td>9.4</td>\n",
              "    </tr>\n",
              "  </tbody>\n",
              "</table>\n",
              "</div>"
            ],
            "text/plain": [
              "                                               country  ciawf2020\n",
              "86                                          Kazakhstan       16.4\n",
              "92                                          Kyrgyzstan       20.6\n",
              "171                                         Tajikistan       21.8\n",
              "180                                       Turkmenistan       18.3\n",
              "188                                         Uzbekistan       16.1\n",
              "227  Saint Helena, Ascension and Tristan da Cunha (UK)        9.4"
            ]
          },
          "metadata": {},
          "execution_count": 46
        }
      ]
    },
    {
      "cell_type": "code",
      "source": [
        "# Select the countries where the birthrate dropped more than 7 percent points between 2013 and 2020 according to the CIA. \n",
        "# Select the columns for country, CIA 2013 and 2020 birth rate.\n",
        "def dropped_7_percent(country):\n",
        "  percent_dropped = country.ciawf2013 - country.ciawf2020\n",
        "  return percent_dropped > 7\n",
        "\n",
        "countries_birth_rate_dropped_more_than_7_percent = countries.loc[lambda country: dropped_7_percent(country), ['country', 'ciawf2013', 'ciawf2020']]\n",
        "countries_birth_rate_dropped_more_than_7_percent"
      ],
      "metadata": {
        "colab": {
          "base_uri": "https://localhost:8080/",
          "height": 143
        },
        "id": "CD2tX2QUCvJP",
        "outputId": "508f0774-ccc5-4b59-ce02-c0e14cc3fb23"
      },
      "execution_count": 49,
      "outputs": [
        {
          "output_type": "execute_result",
          "data": {
            "text/html": [
              "<div>\n",
              "<style scoped>\n",
              "    .dataframe tbody tr th:only-of-type {\n",
              "        vertical-align: middle;\n",
              "    }\n",
              "\n",
              "    .dataframe tbody tr th {\n",
              "        vertical-align: top;\n",
              "    }\n",
              "\n",
              "    .dataframe thead th {\n",
              "        text-align: right;\n",
              "    }\n",
              "</style>\n",
              "<table border=\"1\" class=\"dataframe\">\n",
              "  <thead>\n",
              "    <tr style=\"text-align: right;\">\n",
              "      <th></th>\n",
              "      <th>country</th>\n",
              "      <th>ciawf2013</th>\n",
              "      <th>ciawf2020</th>\n",
              "    </tr>\n",
              "  </thead>\n",
              "  <tbody>\n",
              "    <tr>\n",
              "      <th>26</th>\n",
              "      <td>Burkina Faso</td>\n",
              "      <td>42.81</td>\n",
              "      <td>35.1</td>\n",
              "    </tr>\n",
              "    <tr>\n",
              "      <th>61</th>\n",
              "      <td>Gabon</td>\n",
              "      <td>34.82</td>\n",
              "      <td>26.3</td>\n",
              "    </tr>\n",
              "    <tr>\n",
              "      <th>144</th>\n",
              "      <td>Rwanda</td>\n",
              "      <td>35.49</td>\n",
              "      <td>27.9</td>\n",
              "    </tr>\n",
              "  </tbody>\n",
              "</table>\n",
              "</div>"
            ],
            "text/plain": [
              "          country  ciawf2013  ciawf2020\n",
              "26   Burkina Faso      42.81       35.1\n",
              "61          Gabon      34.82       26.3\n",
              "144        Rwanda      35.49       27.9"
            ]
          },
          "metadata": {},
          "execution_count": 49
        }
      ]
    },
    {
      "cell_type": "code",
      "source": [
        "def drop_percent(country):\n",
        "  percent_dropped = country.ciawf2013 - country.ciawf2020\n",
        "  return percent_dropped\n",
        "\n",
        "countries_birth_rate_dropped_more_than_7_percent['dropped'] = countries_birth_rate_dropped_more_than_7_percent.ciawf2013 - countries_birth_rate_dropped_more_than_7_percent.ciawf2020\n",
        "countries_birth_rate_dropped_more_than_7_percent"
      ],
      "metadata": {
        "colab": {
          "base_uri": "https://localhost:8080/",
          "height": 143
        },
        "id": "hc7VcbqbFA09",
        "outputId": "b64334e9-cd02-403c-ee5d-d58010e41832"
      },
      "execution_count": 54,
      "outputs": [
        {
          "output_type": "execute_result",
          "data": {
            "text/html": [
              "<div>\n",
              "<style scoped>\n",
              "    .dataframe tbody tr th:only-of-type {\n",
              "        vertical-align: middle;\n",
              "    }\n",
              "\n",
              "    .dataframe tbody tr th {\n",
              "        vertical-align: top;\n",
              "    }\n",
              "\n",
              "    .dataframe thead th {\n",
              "        text-align: right;\n",
              "    }\n",
              "</style>\n",
              "<table border=\"1\" class=\"dataframe\">\n",
              "  <thead>\n",
              "    <tr style=\"text-align: right;\">\n",
              "      <th></th>\n",
              "      <th>country</th>\n",
              "      <th>ciawf2013</th>\n",
              "      <th>ciawf2020</th>\n",
              "      <th>dropped</th>\n",
              "    </tr>\n",
              "  </thead>\n",
              "  <tbody>\n",
              "    <tr>\n",
              "      <th>26</th>\n",
              "      <td>Burkina Faso</td>\n",
              "      <td>42.81</td>\n",
              "      <td>35.1</td>\n",
              "      <td>7.71</td>\n",
              "    </tr>\n",
              "    <tr>\n",
              "      <th>61</th>\n",
              "      <td>Gabon</td>\n",
              "      <td>34.82</td>\n",
              "      <td>26.3</td>\n",
              "      <td>8.52</td>\n",
              "    </tr>\n",
              "    <tr>\n",
              "      <th>144</th>\n",
              "      <td>Rwanda</td>\n",
              "      <td>35.49</td>\n",
              "      <td>27.9</td>\n",
              "      <td>7.59</td>\n",
              "    </tr>\n",
              "  </tbody>\n",
              "</table>\n",
              "</div>"
            ],
            "text/plain": [
              "          country  ciawf2013  ciawf2020  dropped\n",
              "26   Burkina Faso      42.81       35.1     7.71\n",
              "61          Gabon      34.82       26.3     8.52\n",
              "144        Rwanda      35.49       27.9     7.59"
            ]
          },
          "metadata": {},
          "execution_count": 54
        }
      ]
    },
    {
      "cell_type": "code",
      "source": [
        ""
      ],
      "metadata": {
        "id": "_tTZoUO7Fttj"
      },
      "execution_count": null,
      "outputs": []
    }
  ]
}